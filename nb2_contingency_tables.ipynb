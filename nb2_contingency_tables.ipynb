{
 "cells": [
  {
   "cell_type": "code",
   "execution_count": null,
   "metadata": {},
   "outputs": [],
   "source": [
    "import pandas as pd\n",
    "\n",
    "import seaborn as sns\n",
    "import matplotlib.pyplot as plt\n",
    "\n",
    "from utils import contingency_tables\n",
    "\n",
    "sns.set_theme(style=\"darkgrid\")\n",
    "sns.set(font_scale = 1.8)\n",
    "colors = sns.color_palette(\"colorblind\")"
   ]
  },
  {
   "cell_type": "markdown",
   "metadata": {},
   "source": [
    "# Load groundtruth"
   ]
  },
  {
   "cell_type": "code",
   "execution_count": null,
   "metadata": {},
   "outputs": [],
   "source": [
    "groundtruth_df = pd.read_csv(\"groundtruth.csv\", index_col=\"stimulus_id\")"
   ]
  },
  {
   "cell_type": "markdown",
   "metadata": {},
   "source": [
    "# Upload date"
   ]
  },
  {
   "cell_type": "code",
   "execution_count": null,
   "metadata": {},
   "outputs": [],
   "source": [
    "upload_years = groundtruth_df[\"upload_date\"].rename(\"Upload year\").sort_values().astype(\"str\").str[:4]\n",
    "\n",
    "plt.figure(figsize=(12,8))\n",
    "ax = sns.histplot(x=upload_years, discrete=True)\n",
    "for p in ax.patches:\n",
    "    annotation = p.get_height() if p.get_height()>10 else \"\"\n",
    "    ax.annotate(f'\\n{annotation}', (p.get_x()+0.3, p.get_height()), ha='center', va='top', color='white', size=16)\n",
    "plt.savefig(\"upload_years.pdf\", bbox_inches=\"tight\")\n",
    "plt.show()\n",
    "\n",
    "upload_years = upload_years.astype(int)"
   ]
  },
  {
   "cell_type": "markdown",
   "metadata": {},
   "source": [
    "# Gender of the actors"
   ]
  },
  {
   "cell_type": "code",
   "execution_count": null,
   "metadata": {},
   "outputs": [],
   "source": [
    "target_groundtruth = groundtruth_df['all_genders'].copy()\n",
    "boys_commercials = target_groundtruth[target_groundtruth=='Boys/men'].index\n",
    "girls_commercials = target_groundtruth[target_groundtruth=='Girls/women'].index\n",
    "mixed_commercials = target_groundtruth[target_groundtruth=='Mixed'].index\n",
    "no_actors_commercials = target_groundtruth[\n",
    "    target_groundtruth=='There are no actors/presenters or you can never see their faces'\n",
    "].index"
   ]
  },
  {
   "cell_type": "code",
   "execution_count": null,
   "metadata": {},
   "outputs": [],
   "source": [
    "target_groundtruth[target_groundtruth=='There are no actors/presenters or you can never see their faces'] = 'No actors'\n",
    "temp = target_groundtruth.rename(\"Predominant gender of the actors/presenters\")\n",
    "\n",
    "plt.figure(figsize=(12,8))\n",
    "ax = sns.histplot(x=temp)\n",
    "for p in ax.patches:\n",
    "    ax.annotate(f'\\n{p.get_height()}', (p.get_x()+0.2, p.get_height()), ha='center', va='top', color='white', size=20)\n",
    "plt.show()"
   ]
  },
  {
   "cell_type": "code",
   "execution_count": null,
   "metadata": {},
   "outputs": [],
   "source": [
    "groundtruth_df.all_genders.value_counts()"
   ]
  },
  {
   "cell_type": "markdown",
   "metadata": {},
   "source": [
    "# Voice type"
   ]
  },
  {
   "cell_type": "code",
   "execution_count": null,
   "metadata": {},
   "outputs": [],
   "source": [
    "cont_tab, expected = contingency_tables(groundtruth_df,\"voice_type\")\n",
    "cont_tab"
   ]
  },
  {
   "cell_type": "markdown",
   "metadata": {},
   "source": [
    "# Voice age"
   ]
  },
  {
   "cell_type": "code",
   "execution_count": null,
   "metadata": {},
   "outputs": [],
   "source": [
    "cont_tab, expected = contingency_tables(groundtruth_df,\"voice_age\")\n",
    "cont_tab"
   ]
  },
  {
   "cell_type": "markdown",
   "metadata": {},
   "source": [
    "# Voice gender"
   ]
  },
  {
   "cell_type": "markdown",
   "metadata": {},
   "source": [
    "### Merge cases to improve trustworthiness of the chi-square test\n",
    "Merge \"Unclear\" with no voices"
   ]
  },
  {
   "cell_type": "code",
   "execution_count": null,
   "metadata": {},
   "outputs": [],
   "source": [
    "merge_cases = [\n",
    "    {\n",
    "        \"merged_name\": \"BOTH feminine and masculine voices\",\n",
    "        \"cases_to_merge\": [\"BOTH feminine and masculine voices\", \"Unclear\"]\n",
    "    }\n",
    "]\n",
    "cont_tab, expected = contingency_tables(groundtruth_df,\"voice_gender\", merge_cases=merge_cases)\n",
    "cont_tab"
   ]
  },
  {
   "cell_type": "code",
   "execution_count": null,
   "metadata": {},
   "outputs": [],
   "source": [
    "for merging_dict in merge_cases:\n",
    "    for case in merging_dict[\"cases_to_merge\"]:\n",
    "        groundtruth_df.loc[groundtruth_df.voice_gender == case, \"voice_gender\"] = merging_dict[\"merged_name\"]"
   ]
  },
  {
   "cell_type": "markdown",
   "metadata": {},
   "source": [
    "# Voice gender exaggeration"
   ]
  },
  {
   "cell_type": "code",
   "execution_count": null,
   "metadata": {},
   "outputs": [],
   "source": [
    "cont_tab, expected = contingency_tables(groundtruth_df,\"voice_exagg\")\n",
    "cont_tab"
   ]
  },
  {
   "cell_type": "code",
   "execution_count": null,
   "metadata": {},
   "outputs": [],
   "source": []
  }
 ],
 "metadata": {
  "kernelspec": {
   "display_name": "dataset_tools_and_analysis",
   "language": "python",
   "name": "python3"
  },
  "language_info": {
   "codemirror_mode": {
    "name": "ipython",
    "version": 3
   },
   "file_extension": ".py",
   "mimetype": "text/x-python",
   "name": "python",
   "nbconvert_exporter": "python",
   "pygments_lexer": "ipython3",
   "version": "3.11.7"
  }
 },
 "nbformat": 4,
 "nbformat_minor": 1
}
