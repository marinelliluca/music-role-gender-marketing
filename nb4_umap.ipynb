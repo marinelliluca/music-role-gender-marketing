{
 "cells": [
  {
   "cell_type": "code",
   "execution_count": null,
   "metadata": {},
   "outputs": [],
   "source": [
    "import pandas as pd\n",
    "import seaborn as sns\n",
    "import matplotlib.pyplot as plt\n",
    "import umap\n",
    "\n",
    "from sklearn.preprocessing import StandardScaler\n",
    "\n",
    "sns.set_theme(style=\"darkgrid\")\n",
    "sns.set(font_scale = 1.8)\n",
    "colors = sns.color_palette(\"colorblind\")\n"
   ]
  },
  {
   "cell_type": "markdown",
   "metadata": {},
   "source": [
    "# Load groundtruth"
   ]
  },
  {
   "cell_type": "code",
   "execution_count": null,
   "metadata": {},
   "outputs": [],
   "source": [
    "# 'mm' for multimodal (aesthetic emotions), 'mf' for music-focused (perceptual descriptors)\n",
    "experiment = 'mf'\n",
    "groundtruth_df = pd.read_csv(\"groundtruth.csv\", index_col=\"stimulus_id\")"
   ]
  },
  {
   "cell_type": "code",
   "execution_count": null,
   "metadata": {},
   "outputs": [],
   "source": [
    "target_groundtruth = groundtruth_df['all_genders'].copy()\n",
    "boys_commercials = target_groundtruth[target_groundtruth=='Boys/men'].index\n",
    "girls_commercials = target_groundtruth[target_groundtruth=='Girls/women'].index\n",
    "mixed_commercials = target_groundtruth[target_groundtruth=='Mixed'].index\n",
    "no_actors_commercials = target_groundtruth[\n",
    "    target_groundtruth=='There are no actors/presenters or you can never see their faces'\n",
    "].index"
   ]
  },
  {
   "cell_type": "markdown",
   "metadata": {},
   "source": [
    "# Load the ratings"
   ]
  },
  {
   "cell_type": "code",
   "execution_count": null,
   "metadata": {},
   "outputs": [],
   "source": [
    "participants_df = pd.read_csv(f\"{experiment}_participants.csv\")\n",
    "ratings_df = pd.read_csv(f\"{experiment}_ratings.csv\")\n",
    "control_ratings_df = pd.read_csv(f\"{experiment}_control_ratings.csv\")"
   ]
  },
  {
   "cell_type": "code",
   "execution_count": null,
   "metadata": {},
   "outputs": [],
   "source": [
    "# remove control ratings_df for the count of the number of ratings per stimulus\n",
    "temp = ratings_df[~ratings_df.stimulus_id.isin(control_ratings_df.stimulus_id)]\n",
    "ratings_per_stimulus = temp.groupby('stimulus_id').count().iloc[:,0].rename(\"ratings per stimulus\")\n",
    "ratings_per_stimulus.describe()"
   ]
  },
  {
   "cell_type": "markdown",
   "metadata": {},
   "source": [
    "## Compute ratings means by `stimulus_id`"
   ]
  },
  {
   "cell_type": "code",
   "execution_count": null,
   "metadata": {},
   "outputs": [],
   "source": [
    "ratings_df = ratings_df.drop([\"prolific_id\"], axis=1)\n",
    "ratings_means_df = ratings_df.groupby('stimulus_id').mean()\n",
    "ratings_means_df.head()"
   ]
  },
  {
   "cell_type": "code",
   "execution_count": null,
   "metadata": {},
   "outputs": [],
   "source": [
    "ratings_means_df.loc[no_actors_commercials,'target'] = 'no_actors'\n",
    "ratings_means_df.loc[boys_commercials,'target'] = 'Masc'\n",
    "ratings_means_df.loc[girls_commercials,'target'] = 'Fem'\n",
    "ratings_means_df.loc[mixed_commercials,'target'] = 'Mix'"
   ]
  },
  {
   "cell_type": "markdown",
   "metadata": {},
   "source": [
    "# Manifold learning\n",
    "Uncomment to reproduce the paper's figure"
   ]
  },
  {
   "cell_type": "code",
   "execution_count": null,
   "metadata": {},
   "outputs": [],
   "source": [
    "reducer = umap.UMAP(n_neighbors=20, random_state=42)\n",
    "X = ratings_means_df.drop([\"target\"], axis=1).values\n",
    "embeddings = StandardScaler().fit_transform(X)\n",
    "embeddings = reducer.fit_transform(embeddings)\n",
    "\n",
    "# plot by target\n",
    "palette = {'Mix':'C2','Fem':'C3','Masc':'C0','no_actors':'C1'}\n",
    "for groups in ['Fem/Mix/Masc']: #['Fem/Mix/Masc/no_actors', 'Fem/Mix/Masc', 'Fem/Masc']\n",
    "    mask = ratings_means_df.target.isin(groups.split(\"/\"))\n",
    "    plt.figure(figsize=(12,8))\n",
    "    g = sns.scatterplot(\n",
    "            x=embeddings[mask,0],\n",
    "            y=embeddings[mask,1],\n",
    "            hue=ratings_means_df.target.values[mask],\n",
    "            palette=palette, s=50\n",
    "        )\n",
    "    g.set(xticklabels=[], yticklabels=[], xticks=[], yticks=[])\n",
    "    g.grid(False)\n",
    "    g.legend(loc='upper left' if experiment==\"mf\" else \"lower left\")\n",
    "    plt.savefig(f\"UMAP_{experiment}.pdf\", bbox_inches=\"tight\")\n",
    "    plt.show()"
   ]
  },
  {
   "cell_type": "code",
   "execution_count": null,
   "metadata": {},
   "outputs": [],
   "source": [
    "# save embeddings with target\n",
    "embeddings_df = pd.DataFrame(embeddings, columns=[\"x\",\"y\"])\n",
    "embeddings_df[\"target\"] = ratings_means_df.target.values\n",
    "embeddings_df[\"stimulus_id\"] = ratings_means_df.index\n",
    "embeddings_df = embeddings_df[~embeddings_df.target.isin(['no_actors'])]\n",
    "embeddings_df = embeddings_df.reset_index(drop=True)\n",
    "embeddings_df.to_csv(f\"UMAP_{experiment}.csv\", index=False)"
   ]
  },
  {
   "cell_type": "code",
   "execution_count": null,
   "metadata": {},
   "outputs": [],
   "source": []
  }
 ],
 "metadata": {
  "kernelspec": {
   "display_name": "dataset_tools_and_analysis",
   "language": "python",
   "name": "python3"
  },
  "language_info": {
   "codemirror_mode": {
    "name": "ipython",
    "version": 3
   },
   "file_extension": ".py",
   "mimetype": "text/x-python",
   "name": "python",
   "nbconvert_exporter": "python",
   "pygments_lexer": "ipython3",
   "version": "3.11.7"
  }
 },
 "nbformat": 4,
 "nbformat_minor": 1
}
