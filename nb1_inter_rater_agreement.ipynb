{
 "cells": [
  {
   "cell_type": "code",
   "execution_count": null,
   "metadata": {},
   "outputs": [],
   "source": [
    "import numpy as np\n",
    "import pandas as pd\n",
    "\n",
    "from utils import get_fields"
   ]
  },
  {
   "cell_type": "code",
   "execution_count": null,
   "metadata": {},
   "outputs": [],
   "source": [
    "# 'mm' for multimodal (aesthetic emotions), 'mf' for music-focused (perceptual descriptors)\n",
    "experiment = \"mm\"\n",
    "\n",
    "ordered_fields, _ = get_fields(experiment)\n",
    "ordered_fields = list(ordered_fields) # not alphabetical order"
   ]
  },
  {
   "cell_type": "markdown",
   "metadata": {},
   "source": [
    "## Load control ratings"
   ]
  },
  {
   "cell_type": "code",
   "execution_count": null,
   "metadata": {},
   "outputs": [],
   "source": [
    "control_ratings_df = pd.read_csv(f\"{experiment}_control_ratings.csv\")"
   ]
  },
  {
   "cell_type": "markdown",
   "metadata": {},
   "source": [
    "## Inter-rater agreement != reliability"
   ]
  },
  {
   "cell_type": "code",
   "execution_count": null,
   "metadata": {},
   "outputs": [],
   "source": [
    "r_star_wgs = {field: [] for field in ordered_fields}\n",
    "for field in ordered_fields:\n",
    "\n",
    "    # compute r_star_wg for each stimulus and average over all stimuli\n",
    "    for stimulus_id in control_ratings_df[\"stimulus_id\"].unique():\n",
    "        df_field = control_ratings_df[[\"prolific_id\", \"stimulus_id\", field]].copy()\n",
    "        df_field = df_field[df_field[\"stimulus_id\"] == stimulus_id]\n",
    "\n",
    "        # r∗wg with the rectangular null and maximum dissensus null distributions\n",
    "        # https://www.ncbi.nlm.nih.gov/pmc/articles/PMC5427087/#sec-a.h.ctitle\n",
    "        # This index avoids the problem of non-linearity and corresponding inflation potential of rwg(j) \n",
    "        # and addresses the problem of inadmissible values.\n",
    "        \n",
    "        S_x = df_field[[field]].var().values[0] # observed variance\n",
    "        X_U = 7 # maximum possible value\n",
    "        X_L = 1 # minimum possible value\n",
    "        sigma_mv = 0.5*(X_U**2 + X_L**2) - (0.5*(X_U + X_L))**2 # maximum dissensus variance (ratings uniformly dist. at the two extremes)\n",
    "        # the above is equivalent to sigma_mv = np.std([X_U, X_L])**2\n",
    "        r_star_wgs[field].append(1 - (S_x / sigma_mv))\n",
    "\n",
    "    print(f\"{field} - r*_wg: {np.mean(r_star_wgs[field]):.2f} ± {np.std(r_star_wgs[field]):.2f}\")"
   ]
  },
  {
   "cell_type": "code",
   "execution_count": null,
   "metadata": {},
   "outputs": [],
   "source": []
  }
 ],
 "metadata": {
  "kernelspec": {
   "display_name": "dataset_tools_and_analysis",
   "language": "python",
   "name": "python3"
  },
  "language_info": {
   "codemirror_mode": {
    "name": "ipython",
    "version": 3
   },
   "file_extension": ".py",
   "mimetype": "text/x-python",
   "name": "python",
   "nbconvert_exporter": "python",
   "pygments_lexer": "ipython3",
   "version": "3.11.7"
  }
 },
 "nbformat": 4,
 "nbformat_minor": 1
}
