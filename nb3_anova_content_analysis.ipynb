{
 "cells": [
  {
   "cell_type": "code",
   "execution_count": null,
   "metadata": {},
   "outputs": [],
   "source": [
    "import pandas as pd\n",
    "#import seaborn as sns\n",
    "#import matplotlib.pyplot as plt\n",
    "import umap\n",
    "\n",
    "from utils import anova_by_variable\n",
    "\n",
    "#sns.set_theme(style=\"darkgrid\")\n",
    "#sns.set(font_scale = 1.8)\n",
    "#colors = sns.color_palette(\"colorblind\")\n"
   ]
  },
  {
   "cell_type": "markdown",
   "metadata": {},
   "source": [
    "# Load groundtruth"
   ]
  },
  {
   "cell_type": "code",
   "execution_count": null,
   "metadata": {},
   "outputs": [],
   "source": [
    "# 'mm' for multimodal (aesthetic emotions), 'mf' for music-focused (perceptual descriptors)\n",
    "experiment = 'mf'\n",
    "groundtruth_df = pd.read_csv(\"groundtruth.csv\", index_col=\"stimulus_id\")"
   ]
  },
  {
   "cell_type": "code",
   "execution_count": null,
   "metadata": {},
   "outputs": [],
   "source": [
    "target_groundtruth = groundtruth_df['all_genders'].copy()\n",
    "boys_commercials = target_groundtruth[target_groundtruth=='Boys/men'].index\n",
    "girls_commercials = target_groundtruth[target_groundtruth=='Girls/women'].index\n",
    "mixed_commercials = target_groundtruth[target_groundtruth=='Mixed'].index\n",
    "no_actors_commercials = target_groundtruth[\n",
    "    target_groundtruth=='There are no actors/presenters or you can never see their faces'\n",
    "].index"
   ]
  },
  {
   "cell_type": "markdown",
   "metadata": {},
   "source": [
    "# Load the ratings"
   ]
  },
  {
   "cell_type": "code",
   "execution_count": null,
   "metadata": {},
   "outputs": [],
   "source": [
    "ratings_df = pd.read_csv(f\"{experiment}_ratings.csv\")\n",
    "control_ratings_df = pd.read_csv(f\"{experiment}_control_ratings.csv\")"
   ]
  },
  {
   "cell_type": "code",
   "execution_count": null,
   "metadata": {},
   "outputs": [],
   "source": [
    "# remove control ratings_df for the count of the number of ratings per stimulus\n",
    "temp = ratings_df[~ratings_df.stimulus_id.isin(control_ratings_df.stimulus_id)]\n",
    "ratings_per_stimulus = temp.groupby('stimulus_id').count().iloc[:,0].rename(\"ratings per stimulus\")\n",
    "ratings_per_stimulus.value_counts()"
   ]
  },
  {
   "cell_type": "markdown",
   "metadata": {},
   "source": [
    "## Compute ratings means by `stimulus_id`"
   ]
  },
  {
   "cell_type": "code",
   "execution_count": null,
   "metadata": {},
   "outputs": [],
   "source": [
    "ratings_df = ratings_df.drop([\"prolific_id\"], axis=1)\n",
    "ratings_means_df = ratings_df.groupby('stimulus_id').mean()\n",
    "ratings_means_df.head()"
   ]
  },
  {
   "cell_type": "code",
   "execution_count": null,
   "metadata": {},
   "outputs": [],
   "source": [
    "ratings_means_df.loc[no_actors_commercials,'target'] = 'no_actors'\n",
    "ratings_means_df.loc[boys_commercials,'target'] = 'masc'\n",
    "ratings_means_df.loc[girls_commercials,'target'] = 'fem'\n",
    "ratings_means_df.loc[mixed_commercials,'target'] = 'mix'"
   ]
  },
  {
   "cell_type": "markdown",
   "metadata": {},
   "source": [
    "## One-way ANOVA by gender orientation \n",
    "On the average of the ratings (by stimulus)"
   ]
  },
  {
   "cell_type": "code",
   "execution_count": null,
   "metadata": {},
   "outputs": [],
   "source": [
    "significant_fields = anova_by_variable(\n",
    "    \"all_genders\",\n",
    "    ratings_means_df,\n",
    "    groundtruth_df,\n",
    "    experiment,\n",
    "    excluded_categories = [\n",
    "        \"There are no actors/presenters or you can never see their faces\"\n",
    "    ],\n",
    "    alpha=1 # show also non-significant fields\n",
    ")"
   ]
  },
  {
   "cell_type": "markdown",
   "metadata": {},
   "source": [
    "# Swarm plots"
   ]
  },
  {
   "cell_type": "code",
   "execution_count": null,
   "metadata": {},
   "outputs": [],
   "source": [
    "_ = ''' uncomment to plot\n",
    "palette = {'mix':'C2','fem':'C3','masc':'C0','no_actors':'C1'}\n",
    "for field in significant_fields:\n",
    "    print(f'\\033[1m\\033[91m.::{field}::.\\033[0m')\n",
    "    plt.figure(figsize=(6,4))\n",
    "    sns.swarmplot(x='target',y=field, data=ratings_means_df[ratings_means_df[\"target\"]!=\"no_actors\"], palette=palette, size=4)\n",
    "    plt.show()\n",
    "'''"
   ]
  },
  {
   "cell_type": "code",
   "execution_count": null,
   "metadata": {},
   "outputs": [],
   "source": []
  }
 ],
 "metadata": {
  "kernelspec": {
   "display_name": "dataset_tools_and_analysis",
   "language": "python",
   "name": "python3"
  },
  "language_info": {
   "codemirror_mode": {
    "name": "ipython",
    "version": 3
   },
   "file_extension": ".py",
   "mimetype": "text/x-python",
   "name": "python",
   "nbconvert_exporter": "python",
   "pygments_lexer": "ipython3",
   "version": "3.11.7"
  }
 },
 "nbformat": 4,
 "nbformat_minor": 1
}
